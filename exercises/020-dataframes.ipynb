{
 "cells": [
  {
   "attachments": {},
   "cell_type": "markdown",
   "id": "4bcc6ef9",
   "metadata": {},
   "source": [
    "## Check the setup and connect to the database"
   ]
  },
  {
   "cell_type": "code",
   "execution_count": null,
   "id": "75d9ce4c",
   "metadata": {},
   "outputs": [],
   "source": [
    "%run \"010-check_setup.ipynb\""
   ]
  },
  {
   "cell_type": "markdown",
   "id": "13633524",
   "metadata": {},
   "source": [
    "## Use HANA DataFrame and Pandas DataFrame"
   ]
  },
  {
   "cell_type": "markdown",
   "id": "72bd1720",
   "metadata": {},
   "source": [
    "List database tables from the schema `TITANIC` using [the `get_tables()` method](https://help.sap.com/doc/cd94b08fe2e041c2ba778374572ddba9/latest/en-US/hana_ml.dataframe.html#hana_ml.dataframe.ConnectionContext.get_tables)."
   ]
  },
  {
   "cell_type": "code",
   "execution_count": null,
   "id": "fc84b745",
   "metadata": {},
   "outputs": [],
   "source": [
    "myconn.get_tables(schema='TITANIC')"
   ]
  },
  {
   "attachments": {},
   "cell_type": "markdown",
   "id": "ccab43d3",
   "metadata": {},
   "source": [
    "A table with data already exist in your SAP HANA database, so you use [the `table()` method](https://help.sap.com/doc/cd94b08fe2e041c2ba778374572ddba9/latest/en-US/hana_ml.dataframe.html#hana_ml.dataframe.ConnectionContext.table) to instantiate a HANA DataFrame from the existing database table. "
   ]
  },
  {
   "cell_type": "code",
   "execution_count": null,
   "id": "1a034d0f",
   "metadata": {},
   "outputs": [],
   "source": [
    "hdf_train=myconn.table('DATA_LABELED', schema='TITANIC')"
   ]
  },
  {
   "attachments": {},
   "cell_type": "markdown",
   "id": "ff9b0de9-c500-4b51-8d7c-8e635fb243b5",
   "metadata": {},
   "source": [
    "You can always use [the `select_statement` property](https://help.sap.com/doc/cd94b08fe2e041c2ba778374572ddba9/latest/en-US/hana_ml.dataframe.html#hana_ml.dataframe.DataFrame) to check an SQL SELECT statement that backs a HANA DataFrame. "
   ]
  },
  {
   "cell_type": "code",
   "execution_count": null,
   "id": "efe50e14",
   "metadata": {},
   "outputs": [],
   "source": [
    "hdf_train.select_statement"
   ]
  },
  {
   "cell_type": "markdown",
   "id": "bc91cab5-9616-4f94-8d3f-63b80710d577",
   "metadata": {},
   "source": [
    "The [**HANA DataFrame** object in Python](https://help.sap.com/doc/cd94b08fe2e041c2ba778374572ddba9/latest/en-US/hana_ml.html#sap-hana-dataframe) represents only an SQL SELECT statement, but does not store data..."
   ]
  },
  {
   "cell_type": "code",
   "execution_count": null,
   "id": "ef820a1b",
   "metadata": {},
   "outputs": [],
   "source": [
    "hdf_train_first10recs=hdf_train.head(10)"
   ]
  },
  {
   "cell_type": "code",
   "execution_count": null,
   "id": "5a8d55bf-491e-44b9-9270-7d4d9b7f6d60",
   "metadata": {},
   "outputs": [],
   "source": [
    "hdf_train_first10recs.select_statement"
   ]
  },
  {
   "cell_type": "markdown",
   "id": "b279daf3-4fd7-498a-9f45-a0729fb5589c",
   "metadata": {},
   "source": [
    "...until [a `collect()` method](https://help.sap.com/doc/cd94b08fe2e041c2ba778374572ddba9/latest/en-US/hana_ml.dataframe.html#hana_ml.dataframe.DataFrame.collect) is executed, which returns a result as a Pandas dataframe on a client side"
   ]
  },
  {
   "cell_type": "code",
   "execution_count": null,
   "id": "6a9f6952-0a76-4350-af87-a4215ca6d5aa",
   "metadata": {},
   "outputs": [],
   "source": [
    "hdf_train_first10recs.collect()"
   ]
  },
  {
   "cell_type": "markdown",
   "id": "41ea53a8-c225-4717-81d6-5dfb8f240c3a",
   "metadata": {},
   "source": [
    "You use [HANA `DataFrame` methods](https://help.sap.com/doc/cd94b08fe2e041c2ba778374572ddba9/latest/en-US/hana_ml.dataframe.html#hana_ml.dataframe.DataFrame) to query the data from SAP HANA database."
   ]
  },
  {
   "cell_type": "code",
   "execution_count": null,
   "id": "45a3d63d-b91c-4412-b55a-eea9b78fa48c",
   "metadata": {},
   "outputs": [],
   "source": [
    "print(hdf_train.value_counts(['PClass']).select_statement)"
   ]
  },
  {
   "cell_type": "code",
   "execution_count": null,
   "id": "7c576022-8b0e-46c6-b85f-7c2442130cbf",
   "metadata": {},
   "outputs": [],
   "source": [
    "hdf_train.value_counts(['PClass']).collect()"
   ]
  },
  {
   "cell_type": "code",
   "execution_count": null,
   "id": "9cacebc6-e43e-42bf-867b-53b759248c4c",
   "metadata": {},
   "outputs": [],
   "source": [
    "print(hdf_train.value_counts(['PClass']).sort('NUM_PClass', desc=True).select_statement)"
   ]
  },
  {
   "cell_type": "code",
   "execution_count": null,
   "id": "765ca3fa-28c7-43df-be77-cdd8cc686bde",
   "metadata": {},
   "outputs": [],
   "source": [
    "hdf_train.value_counts(['PClass']).sort('NUM_PClass', desc=True).collect()"
   ]
  },
  {
   "cell_type": "markdown",
   "id": "dfe23c4c-9c71-4e28-910f-8165b6021c70",
   "metadata": {},
   "source": [
    "You use [**Pandas `DataFrame` and/or `Series`**](https://pandas.pydata.org/docs/user_guide/10min.html#minutes-to-pandas) methods to query the data returned to a client as a result of the `collect()` method."
   ]
  },
  {
   "cell_type": "code",
   "execution_count": null,
   "id": "91cb7fa5-a216-4812-a54e-3967a6125950",
   "metadata": {},
   "outputs": [],
   "source": [
    "hdf_train.value_counts(['PClass']).collect().sort_values('NUM_PClass')"
   ]
  },
  {
   "attachments": {},
   "cell_type": "markdown",
   "id": "3c7ec115-6c8b-42dd-b840-8fdaf805c384",
   "metadata": {},
   "source": [
    "🤓 **Let's discuss**:\n",
    "1. HANA DataFrames\n",
    "2. Pandas DataFrames/Series"
   ]
  }
 ],
 "metadata": {
  "kernelspec": {
   "display_name": "Python 3 (ipykernel)",
   "language": "python",
   "name": "python3"
  },
  "language_info": {
   "codemirror_mode": {
    "name": "ipython",
    "version": 3
   },
   "file_extension": ".py",
   "mimetype": "text/x-python",
   "name": "python",
   "nbconvert_exporter": "python",
   "pygments_lexer": "ipython3",
   "version": "3.11.2"
  }
 },
 "nbformat": 4,
 "nbformat_minor": 5
}
