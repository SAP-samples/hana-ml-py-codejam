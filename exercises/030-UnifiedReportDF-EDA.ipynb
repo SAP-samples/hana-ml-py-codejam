{
 "cells": [
  {
   "cell_type": "markdown",
   "id": "9587be09",
   "metadata": {},
   "source": [
    "## Check the setup and connect to the database"
   ]
  },
  {
   "cell_type": "code",
   "execution_count": null,
   "id": "dfd960bb",
   "metadata": {},
   "outputs": [],
   "source": [
    "%run \"010-check_setup.ipynb\""
   ]
  },
  {
   "attachments": {},
   "cell_type": "markdown",
   "id": "011cd7c0",
   "metadata": {},
   "source": [
    "# Tables from SAP HANA"
   ]
  },
  {
   "cell_type": "code",
   "execution_count": null,
   "id": "f9ea3d57-cf04-4d6b-b2c5-600496ec9774",
   "metadata": {},
   "outputs": [],
   "source": [
    "hdf_train=myconn.table('DATA_LABELED', schema='TITANIC')"
   ]
  },
  {
   "cell_type": "markdown",
   "id": "ad3c0674-c020-4a91-886f-5321aed972aa",
   "metadata": {},
   "source": [
    "## The first look at the table"
   ]
  },
  {
   "cell_type": "code",
   "execution_count": null,
   "id": "ef8049b0-1e35-44e0-bd6a-47d6c62b45d4",
   "metadata": {},
   "outputs": [],
   "source": [
    "hdf_train.get_table_structure()"
   ]
  },
  {
   "cell_type": "markdown",
   "id": "0ef4a753-ebad-4fed-82a9-4898ecf1e8d1",
   "metadata": {},
   "source": [
    "Let's check various statistics of the dataset using [a `describe()` method](https://help.sap.com/doc/cd94b08fe2e041c2ba778374572ddba9/latest/en-US/hana_ml.dataframe.html#hana_ml.dataframe.DataFrame.describe)."
   ]
  },
  {
   "cell_type": "code",
   "execution_count": null,
   "id": "cf721a96-b54c-426d-80a7-5db8fad2ed9f",
   "metadata": {},
   "outputs": [],
   "source": [
    "hdf_train.describe(version='v1').collect()"
   ]
  },
  {
   "attachments": {},
   "cell_type": "markdown",
   "id": "3e6c971c-cbf8-47b4-a7eb-f4ccc4719591",
   "metadata": {},
   "source": [
    "🤓 **Let's discuss**:\n",
    "- What can we read from the dataset above"
   ]
  },
  {
   "cell_type": "markdown",
   "id": "bbcb5489-b324-4ab8-b72f-bf6a3b4cd876",
   "metadata": {
    "tags": []
   },
   "source": [
    "# Unified Report"
   ]
  },
  {
   "attachments": {},
   "cell_type": "markdown",
   "id": "98fda8f6",
   "metadata": {},
   "source": [
    "Unified Reports: https://help.sap.com/doc/cd94b08fe2e041c2ba778374572ddba9/latest/en-US/hana_ml.visualizers.html#module-hana_ml.visualizers.unified_report"
   ]
  },
  {
   "cell_type": "code",
   "execution_count": null,
   "id": "e59c1c07-8147-4426-b464-2cce9345cc5b",
   "metadata": {},
   "outputs": [],
   "source": [
    "from hana_ml.visualizers.unified_report import UnifiedReport"
   ]
  },
  {
   "cell_type": "code",
   "execution_count": null,
   "id": "e7d96f11",
   "metadata": {},
   "outputs": [],
   "source": [
    "UnifiedReport(obj=hdf_train).build(key='PassengerId').display()"
   ]
  },
  {
   "attachments": {},
   "cell_type": "markdown",
   "id": "1d40053d-43e4-4eac-ab32-5328aa89ab9e",
   "metadata": {},
   "source": [
    "🤓 **Let's discuss**:\n",
    "1. What can be found in the dataset's report above"
   ]
  },
  {
   "cell_type": "markdown",
   "id": "5cf302c1-0f5a-4165-b4d3-3ae239ac8866",
   "metadata": {},
   "source": [
    "# [**Optional**] EDA, or Exploratory Data Analysis\n",
    "\n",
    "EDA Visualizers: https://help.sap.com/doc/cd94b08fe2e041c2ba778374572ddba9/latest/en-US/hana_ml.visualizers.html#module-hana_ml.visualizers.eda"
   ]
  },
  {
   "attachments": {},
   "cell_type": "markdown",
   "id": "129246ca-5012-4c04-8c82-6b6c53fcec73",
   "metadata": {},
   "source": [
    "## Categorical variable evaluation: Passenger Class"
   ]
  },
  {
   "cell_type": "code",
   "execution_count": null,
   "id": "0131b5c2-a963-407d-b629-097644bb2661",
   "metadata": {},
   "outputs": [],
   "source": [
    "from hana_ml.visualizers.eda import *"
   ]
  },
  {
   "cell_type": "code",
   "execution_count": null,
   "id": "c7836b69-c83d-4e0c-b042-db094796b951",
   "metadata": {},
   "outputs": [],
   "source": [
    "ax, bar_data = EDAVisualizer(enable_plotly=True).bar_plot(data=hdf_train, column='PClass', aggregation={'PClass':'count'})"
   ]
  },
  {
   "cell_type": "code",
   "execution_count": null,
   "id": "340a913d-8a59-4d9d-b232-57bb9f32c390",
   "metadata": {},
   "outputs": [],
   "source": [
    "ax, pie_data = EDAVisualizer(enable_plotly=True).pie_plot(data=hdf_train, column='PClass')"
   ]
  },
  {
   "attachments": {},
   "cell_type": "markdown",
   "id": "73d402d3-5dd6-46ca-9dce-60d34e866b37",
   "metadata": {},
   "source": [
    "## Continuous variables evaluation: Age"
   ]
  },
  {
   "cell_type": "code",
   "execution_count": null,
   "id": "8f2db2d2",
   "metadata": {},
   "outputs": [],
   "source": [
    "eda3 = EDAVisualizer(enable_plotly=True)\n",
    "_ = eda3.distribution_plot(data=hdf_train.dropna(subset=['Age']), column=\"Age\", bins=30)"
   ]
  }
 ],
 "metadata": {
  "kernelspec": {
   "display_name": "env",
   "language": "python",
   "name": "python3"
  },
  "language_info": {
   "codemirror_mode": {
    "name": "ipython",
    "version": 3
   },
   "file_extension": ".py",
   "mimetype": "text/x-python",
   "name": "python",
   "nbconvert_exporter": "python",
   "pygments_lexer": "ipython3",
   "version": "3.13.1"
  }
 },
 "nbformat": 4,
 "nbformat_minor": 5
}
