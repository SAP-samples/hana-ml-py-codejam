{
 "cells": [
  {
   "cell_type": "markdown",
   "id": "4dc1bb44",
   "metadata": {},
   "source": [
    "## Check the setup and connect to the database"
   ]
  },
  {
   "cell_type": "code",
   "execution_count": null,
   "id": "3c2d1279",
   "metadata": {},
   "outputs": [],
   "source": [
    "%run \"010-check_setup.ipynb\""
   ]
  },
  {
   "attachments": {},
   "cell_type": "markdown",
   "id": "64fea348-f8bc-4e41-8548-dca7770d09b2",
   "metadata": {},
   "source": [
    "# Tables from SAP HANA"
   ]
  },
  {
   "cell_type": "code",
   "execution_count": null,
   "id": "00efbb56-b3ca-48a4-9c2e-b5ca9bc5965f",
   "metadata": {},
   "outputs": [],
   "source": [
    "hdf_titanic_train=myconn.table('DATA_LABELED', schema='TITANIC')"
   ]
  },
  {
   "attachments": {},
   "cell_type": "markdown",
   "id": "96bbfc41-6881-4397-94fa-bc79761dbe07",
   "metadata": {},
   "source": [
    "# Random Decision Tree classification\n",
    "\n",
    "Experiment 2: Split into Train and Test for fit"
   ]
  },
  {
   "cell_type": "code",
   "execution_count": null,
   "id": "a38ff0f9",
   "metadata": {},
   "outputs": [],
   "source": [
    "from hana_ml.algorithms.pal.unified_classification import UnifiedClassification"
   ]
  },
  {
   "cell_type": "code",
   "execution_count": null,
   "id": "f4422ed4-4774-4702-a458-d95d3550e60a",
   "metadata": {},
   "outputs": [],
   "source": [
    "uc_rdt_v2 = UnifiedClassification(func='RandomDecisionTree')"
   ]
  },
  {
   "attachments": {},
   "cell_type": "markdown",
   "id": "2e14b448",
   "metadata": {},
   "source": [
    "🤓 **Let's discuss**:\n",
    "- [Train vs Test vs Validation](https://en.wikipedia.org/wiki/Training,_validation,_and_test_data_sets)"
   ]
  },
  {
   "attachments": {},
   "cell_type": "markdown",
   "id": "335b2a40",
   "metadata": {},
   "source": [
    "Split input dataset into two during [fit()](https://help.sap.com/doc/cd94b08fe2e041c2ba778374572ddba9/latest/en-US/pal/algorithms/hana_ml.algorithms.pal.unified_classification.UnifiedClassification.html#hana_ml.algorithms.pal.unified_classification.UnifiedClassification.fit): training (80%) and testing (the rest) using a column `Survived` and [stratified partition](https://en.wikipedia.org/wiki/Stratified_sampling).\n",
    "\n",
    "Meaning of partitioning parameters: https://help.sap.com/docs/hana-cloud-database/sap-hana-cloud-sap-hana-database-predictive-analysis-library-pal/partition-partition-af41e5f"
   ]
  },
  {
   "cell_type": "code",
   "execution_count": null,
   "id": "639d463a-508c-45a4-83aa-5e4ad461ac9b",
   "metadata": {},
   "outputs": [],
   "source": [
    "uc_rdt_v2.fit(\n",
    "    data=hdf_titanic_train,\n",
    "    key='PassengerId', label='Survived',\n",
    "    training_percent=0.8,\n",
    "    partition_method='stratified', stratified_column='Survived', \n",
    "    partition_random_state=2,\n",
    "    output_partition_result=True\n",
    ");"
   ]
  },
  {
   "attachments": {},
   "cell_type": "markdown",
   "id": "b0cd2c6f",
   "metadata": {
    "jp-MarkdownHeadingCollapsed": true
   },
   "source": [
    "### Analyze the partition of the table"
   ]
  },
  {
   "cell_type": "markdown",
   "id": "db962012-6d9b-4727-8719-91d28b43abb7",
   "metadata": {},
   "source": [
    "Get output table names: https://help.sap.com/doc/cd94b08fe2e041c2ba778374572ddba9/2024_1_QRC/en-US/pal/algorithms/hana_ml.algorithms.pal.pal_base.PALBase.html#hana_ml.algorithms.pal.pal_base.PALBase.get_fit_output_table_names"
   ]
  },
  {
   "cell_type": "code",
   "execution_count": null,
   "id": "55a45418",
   "metadata": {},
   "outputs": [],
   "source": [
    "for tab in uc_rdt_v2.get_fit_output_table_names():\n",
    "    print(f\"Table {tab} has {myconn.table(tab).count()} record(s).\")"
   ]
  },
  {
   "cell_type": "code",
   "execution_count": null,
   "id": "65ece32d",
   "metadata": {},
   "outputs": [],
   "source": [
    "# A table with the `PARTITION_TYPE` in the name is the result of the partition\n",
    "dbtable_with_partition_results=next((a_table for a_table in uc_rdt_v2.get_fit_output_table_names() if 'PARTITION_TYPE' in a_table), None)\n",
    "print(f'The table that stores partition results is {dbtable_with_partition_results}')\n",
    "\n",
    "myconn.table(dbtable_with_partition_results).collect()"
   ]
  },
  {
   "cell_type": "code",
   "execution_count": null,
   "id": "679e3858",
   "metadata": {},
   "outputs": [],
   "source": [
    "(myconn\n",
    "    .table(dbtable_with_partition_results)\n",
    "    .agg(agg_list=[(\"count\", \"TYPE\", \"TYPE_Count\")], group_by=\"TYPE\")\n",
    "    .sort(\"TYPE\")\n",
    "    .collect()\n",
    ")\n"
   ]
  },
  {
   "cell_type": "code",
   "execution_count": null,
   "id": "62099d52",
   "metadata": {},
   "outputs": [],
   "source": [
    "(myconn\n",
    "    .sql(f'''SELECT TYPE, COUNT(*) AS \"COUNT\", ROUND(COUNT(*) * 100.0 / SUM(COUNT(*)) OVER (), 3) AS \"DISTRIBUTION_PERCENTAGE\"\n",
    "    FROM {dbtable_with_partition_results}\n",
    "    GROUP BY TYPE;''')\n",
    "    .sort(\"TYPE\")\n",
    "    .collect()\n",
    ")"
   ]
  },
  {
   "cell_type": "markdown",
   "id": "dc5e408e",
   "metadata": {},
   "source": [
    "## Analyze programmatically the Classifier's..."
   ]
  },
  {
   "cell_type": "markdown",
   "id": "9556b382",
   "metadata": {},
   "source": [
    "### ...parameters"
   ]
  },
  {
   "cell_type": "code",
   "execution_count": null,
   "id": "4c772b2f",
   "metadata": {},
   "outputs": [],
   "source": [
    "display(uc_rdt_v2.get_parameters())"
   ]
  },
  {
   "attachments": {},
   "cell_type": "markdown",
   "id": "00be52ae",
   "metadata": {},
   "source": [
    "Now more output tables are populated, incl. Confusion Matrix and Metrics"
   ]
  },
  {
   "cell_type": "code",
   "execution_count": null,
   "id": "5bebe545",
   "metadata": {},
   "outputs": [],
   "source": [
    "for tab in uc_rdt_v2.model_:\n",
    "    print(f\"{tab.select_statement} returns {tab.count()} record(s)\")"
   ]
  },
  {
   "cell_type": "markdown",
   "id": "9ac2577b",
   "metadata": {},
   "source": [
    "### ...model"
   ]
  },
  {
   "cell_type": "code",
   "execution_count": null,
   "id": "0b744229",
   "metadata": {},
   "outputs": [],
   "source": [
    "hdf_uc_rdt_model=uc_rdt_v2.model_[0]\n",
    "display(hdf_uc_rdt_model.head(3).select(hdf_uc_rdt_model.columns[2]).collect())"
   ]
  },
  {
   "attachments": {},
   "cell_type": "markdown",
   "id": "36a886ea",
   "metadata": {},
   "source": [
    "...confusion matrix from the training (fitting) execution"
   ]
  },
  {
   "cell_type": "code",
   "execution_count": null,
   "id": "dbc2acff-7447-4129-bf97-9816cbb93d03",
   "metadata": {},
   "outputs": [],
   "source": [
    "uc_rdt_v2.confusion_matrix_.collect()"
   ]
  },
  {
   "cell_type": "markdown",
   "id": "d625fd90",
   "metadata": {},
   "source": [
    "🤓 **Let's discuss**:\n",
    "1. Confusion Matrix\n",
    "1. Statistics\n",
    "1. Metrics"
   ]
  },
  {
   "attachments": {},
   "cell_type": "markdown",
   "id": "7e4517df",
   "metadata": {},
   "source": [
    "### ...statistics \n",
    "\n",
    "(see https://help.sap.com/docs/hana-cloud-database/sap-hana-cloud-sap-hana-database-predictive-analysis-library/model-evaluation-model-evaluation-73bbec0)"
   ]
  },
  {
   "cell_type": "code",
   "execution_count": null,
   "id": "6fc92e7b",
   "metadata": {},
   "outputs": [],
   "source": [
    "uc_rdt_v2.statistics_.filter(\"STAT_NAME='ACCURACY'\").collect()"
   ]
  },
  {
   "cell_type": "raw",
   "id": "7fe44021",
   "metadata": {
    "vscode": {
     "languageId": "raw"
    }
   },
   "source": [
    "# To display all available statistics\n",
    "uc_rdt_v2.statistics_.collect()"
   ]
  },
  {
   "attachments": {},
   "cell_type": "markdown",
   "id": "4f26e90e",
   "metadata": {},
   "source": [
    "### ...metrics"
   ]
  },
  {
   "cell_type": "code",
   "execution_count": null,
   "id": "1398dec4",
   "metadata": {},
   "outputs": [],
   "source": [
    "uc_rdt_v2.metrics_.collect()"
   ]
  },
  {
   "attachments": {},
   "cell_type": "markdown",
   "id": "d0016dd7",
   "metadata": {},
   "source": [
    "What metrics are in the table?"
   ]
  },
  {
   "cell_type": "code",
   "execution_count": null,
   "id": "84e7409e",
   "metadata": {},
   "outputs": [],
   "source": [
    "uc_rdt_v2.metrics_.distinct(cols='NAME').collect()"
   ]
  },
  {
   "cell_type": "markdown",
   "id": "9a45d057",
   "metadata": {},
   "source": [
    "Let's check the CUMulative GAINS"
   ]
  },
  {
   "cell_type": "code",
   "execution_count": null,
   "id": "1947c292",
   "metadata": {},
   "outputs": [],
   "source": [
    "uc_rdt_v2.metrics_.filter(\"NAME = 'CUMGAINS'\").sort('X').collect()"
   ]
  },
  {
   "attachments": {},
   "cell_type": "markdown",
   "id": "c411d4bd",
   "metadata": {},
   "source": [
    "If you want to manualy plot Cumulative Gains:\n",
    "```python\n",
    "uc_rdt_v2.metrics_.filter(\"NAME = 'CUMGAINS'\").sort('X').collect().plot(x='X', y='Y');\n",
    "```"
   ]
  },
  {
   "attachments": {},
   "cell_type": "markdown",
   "id": "c7c02e93-0356-4bdf-8fd8-62da8f3379e0",
   "metadata": {},
   "source": [
    "## Generate a model report"
   ]
  },
  {
   "cell_type": "code",
   "execution_count": null,
   "id": "46f58687-a988-4c62-9775-6d24619af87a",
   "metadata": {
    "slideshow": {
     "slide_type": "slide"
    }
   },
   "outputs": [],
   "source": [
    "from hana_ml.visualizers.unified_report import UnifiedReport\n"
   ]
  },
  {
   "cell_type": "code",
   "execution_count": null,
   "id": "a3fe4695",
   "metadata": {},
   "outputs": [],
   "source": [
    "UnifiedReport(uc_rdt_v2).build().display()"
   ]
  },
  {
   "attachments": {},
   "cell_type": "markdown",
   "id": "773f04f8",
   "metadata": {},
   "source": [
    "## Debrief the model"
   ]
  },
  {
   "cell_type": "code",
   "execution_count": null,
   "id": "beaa3177",
   "metadata": {},
   "outputs": [],
   "source": [
    "from hana_ml.visualizers.model_debriefing import TreeModelDebriefing"
   ]
  },
  {
   "cell_type": "code",
   "execution_count": null,
   "id": "95a91712",
   "metadata": {},
   "outputs": [],
   "source": [
    "TreeModelDebriefing.tree_debrief_with_dot(uc_rdt_v2.model_[0], iframe_height=700);"
   ]
  },
  {
   "cell_type": "markdown",
   "id": "472ecdb3",
   "metadata": {},
   "source": [
    "# Store the model"
   ]
  },
  {
   "cell_type": "code",
   "execution_count": null,
   "id": "1f58317e",
   "metadata": {},
   "outputs": [],
   "source": [
    "from hana_ml.model_storage import ModelStorage"
   ]
  },
  {
   "attachments": {},
   "cell_type": "markdown",
   "id": "b59e16ea",
   "metadata": {},
   "source": [
    "Model storage: https://help.sap.com/doc/cd94b08fe2e041c2ba778374572ddba9/2024_4_QRC/en-US/hana_ml.model_storage.html"
   ]
  },
  {
   "cell_type": "code",
   "execution_count": null,
   "id": "02bcceca-68ef-4c29-87b7-c9800e722e6c",
   "metadata": {},
   "outputs": [],
   "source": [
    "ms = ModelStorage(myconn)"
   ]
  },
  {
   "cell_type": "code",
   "execution_count": null,
   "id": "34e4e4c3-67a5-4713-9fb2-a4926e13af1e",
   "metadata": {},
   "outputs": [],
   "source": [
    "uc_rdt_v2.name = 'CodeJam-Titanic-Classification'\n",
    "uc_rdt_v2.version = 2\n",
    "ms.save_model(model=uc_rdt_v2, if_exists='replace', save_report=False)"
   ]
  },
  {
   "cell_type": "code",
   "execution_count": null,
   "id": "255bac2f-77e6-474b-a8f0-0654c332eb35",
   "metadata": {},
   "outputs": [],
   "source": [
    "display(ms.list_models())"
   ]
  },
  {
   "cell_type": "code",
   "execution_count": null,
   "id": "746953de-a87e-4db6-a389-998c3c87e1fa",
   "metadata": {},
   "outputs": [],
   "source": [
    "null = None\n",
    "false = False\n",
    "true = True\n",
    "eval(ms.list_models(name=uc_rdt_v2.name).at[0, 'JSON'])"
   ]
  },
  {
   "cell_type": "code",
   "execution_count": null,
   "id": "762c345c",
   "metadata": {},
   "outputs": [],
   "source": [
    "# Check what table represents your fitted model in this Python session\n",
    "uc_rdt_v2.model_[0].select_statement"
   ]
  },
  {
   "cell_type": "markdown",
   "id": "e83a8ee8-8d37-4090-ba4c-ada812e84d9b",
   "metadata": {},
   "source": [
    "# Load the saved model"
   ]
  },
  {
   "cell_type": "code",
   "execution_count": null,
   "id": "6f79edcd-0ff5-4f72-9588-8cc8fb995c7e",
   "metadata": {},
   "outputs": [],
   "source": [
    "ms.list_models(uc_rdt_v2.name).T"
   ]
  },
  {
   "cell_type": "code",
   "execution_count": null,
   "id": "5181a216-d4bc-475e-b5b5-0569af3d466f",
   "metadata": {},
   "outputs": [],
   "source": [
    "uc_rdt_v2=ms.load_model(uc_rdt_v2.name, version=uc_rdt_v2.version)"
   ]
  },
  {
   "cell_type": "code",
   "execution_count": null,
   "id": "5ddd76c4-0586-494d-9702-5db189423ad9",
   "metadata": {},
   "outputs": [],
   "source": [
    "uc_rdt_v2.model_[0].select_statement"
   ]
  },
  {
   "attachments": {},
   "cell_type": "markdown",
   "id": "0e791d82-30d1-4abd-851b-96dac2631849",
   "metadata": {},
   "source": [
    "# Call prediction"
   ]
  },
  {
   "cell_type": "code",
   "execution_count": null,
   "id": "3684094d-87f1-4928-a120-0a7c4969d6e6",
   "metadata": {},
   "outputs": [],
   "source": [
    "hdf_titanic_test=myconn.table('DATA_TO_PREDICT', schema='TITANIC')"
   ]
  },
  {
   "cell_type": "code",
   "execution_count": null,
   "id": "aaaec2db-62a5-43f7-ae30-82142b5dda6f",
   "metadata": {},
   "outputs": [],
   "source": [
    "hdf_res_v2 = uc_rdt_v2.predict(hdf_titanic_test, key = 'PassengerId')"
   ]
  },
  {
   "cell_type": "code",
   "execution_count": null,
   "id": "56ae4a2c-c723-409a-b08f-58327b2e4328",
   "metadata": {},
   "outputs": [],
   "source": [
    "display(hdf_res_v2.select('PassengerId', 'SCORE', 'CONFIDENCE').head(4).collect())"
   ]
  },
  {
   "cell_type": "markdown",
   "id": "86235484",
   "metadata": {},
   "source": [
    "# [**Optional**] Compare to the ground truth"
   ]
  },
  {
   "cell_type": "code",
   "execution_count": null,
   "id": "307e8350",
   "metadata": {},
   "outputs": [],
   "source": [
    "hdf_titanic_complete=myconn.table('DATA_COMPLETE', schema='TITANIC')"
   ]
  },
  {
   "cell_type": "code",
   "execution_count": null,
   "id": "53ce6cfa",
   "metadata": {},
   "outputs": [],
   "source": [
    "hdf_res_ext=hdf_res_v2.set_index('PassengerId').join(hdf_titanic_test.set_index('PassengerId'))"
   ]
  },
  {
   "cell_type": "code",
   "execution_count": null,
   "id": "a04a2f28",
   "metadata": {},
   "outputs": [],
   "source": [
    "hdf_res_ext.head(3).collect()"
   ]
  },
  {
   "cell_type": "code",
   "execution_count": null,
   "id": "fe5c9f35-3382-4c17-a8c5-fcb23b2b9122",
   "metadata": {},
   "outputs": [],
   "source": [
    "hdf_res_incl_groundtruth=(hdf_res_ext.set_index(['Name', 'Ticket']).join(hdf_titanic_complete.set_index(['name', 'ticket']))\n",
    "                 .select('PassengerId', 'Name', 'Ticket', 'SCORE','survived',('1-ABS(SCORE-\"survived\")', 'IS_CORRECT'))\n",
    "                 .cast('SCORE', 'INT')\n",
    "\n",
    ")"
   ]
  },
  {
   "cell_type": "code",
   "execution_count": null,
   "id": "08a942aa-cf04-48e6-88fb-adc39798440e",
   "metadata": {},
   "outputs": [],
   "source": [
    "hdf_res_incl_groundtruth.head(3).collect()"
   ]
  },
  {
   "cell_type": "markdown",
   "id": "369eb44a-0f81-4f24-8b48-2569ab80624a",
   "metadata": {},
   "source": [
    "## Using `metrics`"
   ]
  },
  {
   "cell_type": "code",
   "execution_count": null,
   "id": "b0b156e6-fdd1-46e0-a16e-1c112247101a",
   "metadata": {},
   "outputs": [],
   "source": [
    "import hana_ml.algorithms.pal.metrics as pal_metrics"
   ]
  },
  {
   "cell_type": "markdown",
   "id": "a90982b6-4cef-4bf1-868a-05b7b3495ade",
   "metadata": {},
   "source": [
    "Accuracy score: https://help.sap.com/doc/cd94b08fe2e041c2ba778374572ddba9/2024_4_QRC/en-US/pal/algorithms/hana_ml.algorithms.pal.metrics.accuracy_score.html#accuracy-score"
   ]
  },
  {
   "cell_type": "code",
   "execution_count": null,
   "id": "0734becd-a79a-4133-a0be-64b9a3d16696",
   "metadata": {},
   "outputs": [],
   "source": [
    "pal_metrics.accuracy_score(data=hdf_res_incl_groundtruth, label_true='survived', label_pred='SCORE')"
   ]
  },
  {
   "cell_type": "markdown",
   "id": "8f1e8023-640c-4051-8080-f52d1ddba612",
   "metadata": {},
   "source": [
    "Confusion Matrix: https://help.sap.com/doc/cd94b08fe2e041c2ba778374572ddba9/2024_4_QRC/en-US/pal/algorithms/hana_ml.algorithms.pal.metrics.confusion_matrix.html#confusion-matrix"
   ]
  },
  {
   "cell_type": "code",
   "execution_count": null,
   "id": "4a96c5b3-8f00-4a35-9acb-74552653298b",
   "metadata": {},
   "outputs": [],
   "source": [
    "hdf_cm, hdf_cr = pal_metrics.confusion_matrix(data=hdf_res_incl_groundtruth, key='PassengerId', label_true='survived', label_pred='SCORE')"
   ]
  },
  {
   "cell_type": "code",
   "execution_count": null,
   "id": "cd0eaf76-df47-4c95-b178-86753c2b90cd",
   "metadata": {},
   "outputs": [],
   "source": [
    "hdf_cm.collect()"
   ]
  },
  {
   "cell_type": "code",
   "execution_count": null,
   "id": "4c150208-e50e-4589-a8ee-b1baa00905bc",
   "metadata": {},
   "outputs": [],
   "source": [
    "hdf_cr.collect()"
   ]
  },
  {
   "cell_type": "code",
   "execution_count": null,
   "id": "9c33924b-5680-4b20-af4a-eae659f2c2e6",
   "metadata": {},
   "outputs": [],
   "source": [
    "from hana_ml.visualizers.metrics import MetricsVisualizer\n",
    "MetricsVisualizer(enable_plotly=True).plot_confusion_matrix(hdf_cm, normalize=False);"
   ]
  }
 ],
 "metadata": {
  "kernelspec": {
   "display_name": "env",
   "language": "python",
   "name": "python3"
  },
  "language_info": {
   "codemirror_mode": {
    "name": "ipython",
    "version": 3
   },
   "file_extension": ".py",
   "mimetype": "text/x-python",
   "name": "python",
   "nbconvert_exporter": "python",
   "pygments_lexer": "ipython3",
   "version": "3.13.1"
  }
 },
 "nbformat": 4,
 "nbformat_minor": 5
}
