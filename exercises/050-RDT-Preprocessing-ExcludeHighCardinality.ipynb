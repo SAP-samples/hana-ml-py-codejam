{
 "cells": [
  {
   "cell_type": "markdown",
   "id": "ab630fc5",
   "metadata": {},
   "source": [
    "## Check the setup and connect to the database"
   ]
  },
  {
   "cell_type": "code",
   "execution_count": null,
   "id": "e0650003",
   "metadata": {},
   "outputs": [],
   "source": [
    "%run \"010-check_setup.ipynb\""
   ]
  },
  {
   "attachments": {},
   "cell_type": "markdown",
   "id": "3621f0aa-8537-4777-bf7a-26032e9b4a8a",
   "metadata": {},
   "source": [
    "# Tables from SAP HANA"
   ]
  },
  {
   "cell_type": "code",
   "execution_count": null,
   "id": "f6b9ef16-4740-4d55-876f-7b418b345422",
   "metadata": {},
   "outputs": [],
   "source": [
    "hdf_titanic_train=myconn.table('DATA_LABELED', schema='TITANIC')"
   ]
  },
  {
   "attachments": {},
   "cell_type": "markdown",
   "id": "96bbfc41-6881-4397-94fa-bc79761dbe07",
   "metadata": {},
   "source": [
    "# Random Decision Tree classification\n",
    "\n",
    "Experiment 3: Exclude high cardinality features (names, tickets and cabins) to improve generalization of the model"
   ]
  },
  {
   "cell_type": "code",
   "execution_count": null,
   "id": "ddfd6ad8",
   "metadata": {},
   "outputs": [],
   "source": [
    "from hana_ml.algorithms.pal.unified_classification import UnifiedClassification"
   ]
  },
  {
   "cell_type": "code",
   "execution_count": null,
   "id": "9e13db34",
   "metadata": {},
   "outputs": [],
   "source": [
    "uc_rdt_v3 = UnifiedClassification(func='RandomDecisionTree')"
   ]
  },
  {
   "cell_type": "code",
   "execution_count": null,
   "id": "57a3a0fc",
   "metadata": {},
   "outputs": [],
   "source": [
    "features_low_cardinality=['Age', 'SibSp', 'ParCh', 'PClass', 'Fare', 'Gender', 'Embarked']"
   ]
  },
  {
   "cell_type": "code",
   "execution_count": null,
   "id": "f2e0cbb3",
   "metadata": {},
   "outputs": [],
   "source": [
    "uc_rdt_v3.fit(\n",
    "    data=hdf_titanic_train,\n",
    "    key='PassengerId', label='Survived',\n",
    "    features=features_low_cardinality, #pass only low-cardinality features\n",
    "    training_percent=0.8,\n",
    "    partition_method='stratified', stratified_column='Survived', \n",
    "    partition_random_state=2\n",
    ");"
   ]
  },
  {
   "attachments": {},
   "cell_type": "markdown",
   "id": "c7c02e93-0356-4bdf-8fd8-62da8f3379e0",
   "metadata": {},
   "source": [
    "## Generate a model report"
   ]
  },
  {
   "cell_type": "code",
   "execution_count": null,
   "id": "46f58687-a988-4c62-9775-6d24619af87a",
   "metadata": {
    "slideshow": {
     "slide_type": "slide"
    }
   },
   "outputs": [],
   "source": [
    "from hana_ml.visualizers.unified_report import UnifiedReport\n",
    "UnifiedReport(uc_rdt_v3).build().display()"
   ]
  },
  {
   "attachments": {},
   "cell_type": "markdown",
   "id": "773f04f8",
   "metadata": {},
   "source": [
    "## Debrief the model"
   ]
  },
  {
   "cell_type": "code",
   "execution_count": null,
   "id": "beaa3177",
   "metadata": {},
   "outputs": [],
   "source": [
    "from hana_ml.visualizers.model_debriefing import TreeModelDebriefing"
   ]
  },
  {
   "cell_type": "code",
   "execution_count": null,
   "id": "95a91712",
   "metadata": {},
   "outputs": [],
   "source": [
    "TreeModelDebriefing.tree_debrief_with_dot(uc_rdt_v3.model_[0], iframe_height=700);"
   ]
  },
  {
   "cell_type": "markdown",
   "id": "4d82328e",
   "metadata": {},
   "source": [
    "# Store the model"
   ]
  },
  {
   "cell_type": "code",
   "execution_count": null,
   "id": "d78f7938",
   "metadata": {},
   "outputs": [],
   "source": [
    "from hana_ml.model_storage import ModelStorage"
   ]
  },
  {
   "cell_type": "markdown",
   "id": "782911cd",
   "metadata": {},
   "source": [
    "Model storage: https://help.sap.com/doc/cd94b08fe2e041c2ba778374572ddba9/latest/en-US/hana_ml.model_storage.html"
   ]
  },
  {
   "cell_type": "code",
   "execution_count": null,
   "id": "8e639f85",
   "metadata": {},
   "outputs": [],
   "source": [
    "ms = ModelStorage(myconn)"
   ]
  },
  {
   "cell_type": "code",
   "execution_count": null,
   "id": "3362e87c-9949-475b-b461-3dd525f7c725",
   "metadata": {},
   "outputs": [],
   "source": [
    "uc_rdt_v3.name = 'CodeJam-Titanic-Classification'\n",
    "uc_rdt_v3.version = 3"
   ]
  },
  {
   "cell_type": "code",
   "execution_count": null,
   "id": "c7df7c1b-af69-46f8-bd3a-cac2ba9afd99",
   "metadata": {},
   "outputs": [],
   "source": [
    "ms.save_model(model=uc_rdt_v3, if_exists='replace', save_report=False)"
   ]
  },
  {
   "cell_type": "code",
   "execution_count": null,
   "id": "b9f8acf0",
   "metadata": {},
   "outputs": [],
   "source": [
    "ms.list_models()"
   ]
  },
  {
   "cell_type": "code",
   "execution_count": null,
   "id": "e0ce6235-3424-4f04-9206-f1513ba39307",
   "metadata": {},
   "outputs": [],
   "source": [
    "null = None\n",
    "false = False\n",
    "true = True\n",
    "eval(ms.list_models(name=uc_rdt_v3.name, version=uc_rdt_v3.version).at[0, 'JSON'])"
   ]
  },
  {
   "attachments": {},
   "cell_type": "markdown",
   "id": "f1d9afc3-06df-465c-af84-6aba89e63b43",
   "metadata": {},
   "source": [
    "# Call prediction"
   ]
  },
  {
   "cell_type": "code",
   "execution_count": null,
   "id": "8790b2a9-60f6-4c1a-aee0-80a374b44616",
   "metadata": {},
   "outputs": [],
   "source": [
    "hdf_titanic_test=myconn.table('DATA_TO_PREDICT', schema='TITANIC')"
   ]
  },
  {
   "cell_type": "code",
   "execution_count": null,
   "id": "d9a7678c-5787-453d-92ca-14f90568b03b",
   "metadata": {},
   "outputs": [],
   "source": [
    "hdf_res_v3 = uc_rdt_v3.predict(hdf_titanic_test, key = 'PassengerId')"
   ]
  },
  {
   "cell_type": "code",
   "execution_count": null,
   "id": "56ae4a2c-c723-409a-b08f-58327b2e4328",
   "metadata": {},
   "outputs": [],
   "source": [
    "display(hdf_res_v3.sort('CONFIDENCE', desc=True).head(3).collect())\n",
    "display(hdf_res_v3.sort('CONFIDENCE', desc=True).tail(3).collect())"
   ]
  },
  {
   "attachments": {},
   "cell_type": "markdown",
   "id": "0a1292a7-61c3-4cf9-9b75-feaf2f505474",
   "metadata": {},
   "source": [
    "🤓 **Let's discuss**:\n",
    "- Comparison of the last two models you trained"
   ]
  }
 ],
 "metadata": {
  "kernelspec": {
   "display_name": "env",
   "language": "python",
   "name": "python3"
  },
  "language_info": {
   "codemirror_mode": {
    "name": "ipython",
    "version": 3
   },
   "file_extension": ".py",
   "mimetype": "text/x-python",
   "name": "python",
   "nbconvert_exporter": "python",
   "pygments_lexer": "ipython3",
   "version": "3.13.1"
  }
 },
 "nbformat": 4,
 "nbformat_minor": 5
}
