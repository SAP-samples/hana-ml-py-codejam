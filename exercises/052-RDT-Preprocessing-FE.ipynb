{
 "cells": [
  {
   "cell_type": "markdown",
   "id": "b1beef06",
   "metadata": {},
   "source": [
    "## Check the setup and connect to the database"
   ]
  },
  {
   "cell_type": "code",
   "execution_count": null,
   "id": "09d30ec9",
   "metadata": {},
   "outputs": [],
   "source": [
    "%run \"010-check_setup.ipynb\""
   ]
  },
  {
   "attachments": {},
   "cell_type": "markdown",
   "id": "ffaeb2bb-6926-49e1-a373-c4bb9098fd67",
   "metadata": {},
   "source": [
    "# Tables from SAP HANA"
   ]
  },
  {
   "cell_type": "code",
   "execution_count": null,
   "id": "00efbb56-b3ca-48a4-9c2e-b5ca9bc5965f",
   "metadata": {},
   "outputs": [],
   "source": [
    "hdf_titanic_train = myconn.table(\"DATA_LABELED_IMPUTED\")"
   ]
  },
  {
   "attachments": {},
   "cell_type": "markdown",
   "id": "d89a98bb-4301-4e3a-896e-e1c53a0e60f5",
   "metadata": {},
   "source": [
    "🤓 **Let's discuss**:\n",
    "- A table we use now and features it has"
   ]
  },
  {
   "cell_type": "markdown",
   "id": "0f6ba516-e969-4af5-afc4-b8d3549747d8",
   "metadata": {},
   "source": [
    "# [Feature Engineering](https://en.wikipedia.org/wiki/Feature_engineering)"
   ]
  },
  {
   "cell_type": "code",
   "execution_count": null,
   "id": "358b17c3-1eb8-4d60-a6a9-8e7280afee14",
   "metadata": {},
   "outputs": [],
   "source": [
    "hdf_titanic_train.get_table_structure()"
   ]
  },
  {
   "cell_type": "code",
   "execution_count": null,
   "id": "954219e5",
   "metadata": {},
   "outputs": [],
   "source": [
    "hdf_titanic_train.head(5).collect()"
   ]
  },
  {
   "attachments": {},
   "cell_type": "markdown",
   "id": "c0acaf12-bafc-4f05-ba91-c8adf78ae01e",
   "metadata": {},
   "source": [
    "## New feature 1: Fare per person"
   ]
  },
  {
   "cell_type": "markdown",
   "id": "fa3d784a",
   "metadata": {},
   "source": [
    "Calculate nr of persons per ticket and a fare per person."
   ]
  },
  {
   "cell_type": "code",
   "execution_count": null,
   "id": "c5491aa9-33cf-4f51-b5ca-9777ae72eba4",
   "metadata": {},
   "outputs": [],
   "source": [
    "(\n",
    "    hdf_titanic_train\n",
    "    .agg([(\"AVG\", \"Fare\", \"AvgFarePerTicket\"), (\"COUNT\", \"Ticket\", \"PersonsPerTicket\")], group_by=[\"Ticket\"])\n",
    "    .select(\"*\", ('ROUND(\"AvgFarePerTicket\"/\"PersonsPerTicket\", 2)', \"FarePerPerson\"))\n",
    "    .describe()\n",
    "    .collect()\n",
    "    .iloc[:, :9]\n",
    ")"
   ]
  },
  {
   "attachments": {},
   "cell_type": "markdown",
   "id": "3ad48890",
   "metadata": {},
   "source": [
    "Define the reusable procedure applied to both DATA_LABELED and DATA_TO_PREDICT datasets"
   ]
  },
  {
   "cell_type": "code",
   "execution_count": null,
   "id": "d5f8fbad",
   "metadata": {},
   "outputs": [],
   "source": [
    "def fe_add_fare_per_person(hdf_in: hdf.DataFrame) -> hdf.DataFrame:\n",
    "    # 1. Calculate nr of persons per ticket and a fare per person\n",
    "    hdf_ticket_price = hdf_in.agg(\n",
    "        [(\"AVG\", \"Fare\", \"AvgFarePerTicket\"),\n",
    "         (\"COUNT\", \"Ticket\", \"PersonsPerTicket\")],\n",
    "        group_by=[\"Ticket\"],\n",
    "    ).select(\"*\", ('ROUND(\"AvgFarePerTicket\"/\"PersonsPerTicket\", 2)', \"FarePerPerson\"))\n",
    "    \n",
    "    # 2. Join nr of persons per ticket and a fare per person to the main table with the data\n",
    "    hdf_out = hdf_in.set_index(\"Ticket\").join(other=hdf_ticket_price.deselect(\"AvgFarePerTicket\").set_index(\"Ticket\"))\n",
    "    return hdf_out"
   ]
  },
  {
   "cell_type": "code",
   "execution_count": null,
   "id": "53f718d4",
   "metadata": {},
   "outputs": [],
   "source": [
    "hdf_titanic_train_fe1 = fe_add_fare_per_person(hdf_titanic_train)"
   ]
  },
  {
   "cell_type": "code",
   "execution_count": null,
   "id": "f480e8c7-1c7f-4ad7-934e-07936ffacb59",
   "metadata": {},
   "outputs": [],
   "source": [
    "hdf_titanic_train_fe1.get_table_structure()"
   ]
  },
  {
   "cell_type": "code",
   "execution_count": null,
   "id": "9fcf3a47",
   "metadata": {},
   "outputs": [],
   "source": [
    "hdf_titanic_train_fe1 = hdf_titanic_train_fe1.cast({\"PersonsPerTicket\": \"INT\"})"
   ]
  },
  {
   "cell_type": "markdown",
   "id": "b2b14695-5d7e-4bf6-b3eb-046a5ed59a68",
   "metadata": {},
   "source": [
    "### DATA_TO_PREDICT table"
   ]
  },
  {
   "cell_type": "code",
   "execution_count": null,
   "id": "133451be-ed31-408e-a514-7be07413c9f2",
   "metadata": {},
   "outputs": [],
   "source": [
    "hdf_titanic_test = myconn.table(\"DATA_TO_PREDICT_IMPUTED\")"
   ]
  },
  {
   "cell_type": "code",
   "execution_count": null,
   "id": "4360ca6e-5e51-435a-9943-c896f3e2f90a",
   "metadata": {},
   "outputs": [],
   "source": [
    "hdf_titanic_test_fe1 = fe_add_fare_per_person(hdf_titanic_test)"
   ]
  },
  {
   "cell_type": "code",
   "execution_count": null,
   "id": "2c49aa15-b4c0-46b2-a595-9a969960204c",
   "metadata": {},
   "outputs": [],
   "source": [
    "hdf_titanic_test_fe1.head(5).collect()"
   ]
  },
  {
   "cell_type": "code",
   "execution_count": null,
   "id": "5efb4e7f-6a5e-4fde-879c-bbc10d100671",
   "metadata": {},
   "outputs": [],
   "source": [
    "hdf_titanic_test_fe1 = hdf_titanic_test_fe1.cast({\"PersonsPerTicket\": \"INT\"})"
   ]
  },
  {
   "attachments": {},
   "cell_type": "markdown",
   "id": "c3e1755b-cd31-4d24-922f-a8140295a67a",
   "metadata": {},
   "source": [
    "## New feature 2: First letter of the last name"
   ]
  },
  {
   "cell_type": "markdown",
   "id": "a8e1ebd1",
   "metadata": {},
   "source": [
    "Define the reusable procedure applied to both DATA_LABELED and DATA_TO_PREDICT datasets"
   ]
  },
  {
   "cell_type": "code",
   "execution_count": null,
   "id": "2ff9a497",
   "metadata": {},
   "outputs": [],
   "source": [
    "def fe_add_1letter_lastname (hdf_in: hdf.DataFrame) -> hdf.DataFrame:\n",
    "    hdf_out = hdf_in.select(\"*\", ('UPPER(LEFT(\"Name\", 1))', \"NameFirstLetter\"))\n",
    "    return hdf_out"
   ]
  },
  {
   "cell_type": "code",
   "execution_count": null,
   "id": "2b969c72-a96d-4795-b038-7100b7051f10",
   "metadata": {},
   "outputs": [],
   "source": [
    "hdf_titanic_train_fe2 = fe_add_1letter_lastname(hdf_titanic_train_fe1)"
   ]
  },
  {
   "cell_type": "code",
   "execution_count": null,
   "id": "67a7d50f-6df1-46a7-b65d-2d29585614ea",
   "metadata": {},
   "outputs": [],
   "source": [
    "hdf_titanic_train_fe2.head(5).collect()"
   ]
  },
  {
   "cell_type": "code",
   "execution_count": null,
   "id": "5790616b",
   "metadata": {},
   "outputs": [],
   "source": [
    "from hana_ml.visualizers.eda import EDAVisualizer"
   ]
  },
  {
   "cell_type": "code",
   "execution_count": null,
   "id": "2a1b90e0",
   "metadata": {},
   "outputs": [],
   "source": [
    "_, df_letter_distribution = EDAVisualizer(enable_plotly=True).bar_plot(data=hdf_titanic_train_fe2, \n",
    "                                                     column='NameFirstLetter', \n",
    "                                                     aggregation={'NameFirstLetter':'count'}\n",
    "                                                    )"
   ]
  },
  {
   "cell_type": "markdown",
   "id": "97abdea4-1cb0-42b4-9de4-565678ed545f",
   "metadata": {},
   "source": [
    "### DATA_TO_PREDICT table"
   ]
  },
  {
   "cell_type": "code",
   "execution_count": null,
   "id": "118ff782",
   "metadata": {},
   "outputs": [],
   "source": [
    "hdf_titanic_test_fe2=fe_add_1letter_lastname(hdf_titanic_test_fe1)"
   ]
  },
  {
   "cell_type": "code",
   "execution_count": null,
   "id": "0823ee76-1da1-43a3-ba91-26b1ea9ffdc5",
   "metadata": {},
   "outputs": [],
   "source": [
    "hdf_titanic_test_fe2.head(5).collect()"
   ]
  },
  {
   "cell_type": "code",
   "execution_count": null,
   "id": "781e4584-33ab-4154-a50d-d1b56d0ce33a",
   "metadata": {},
   "outputs": [],
   "source": [
    "_, df_letter_distribution = EDAVisualizer(enable_plotly=True).bar_plot(data=hdf_titanic_test_fe2, \n",
    "                                                     column='NameFirstLetter', \n",
    "                                                     aggregation={'NameFirstLetter':'count'}\n",
    "                                                    )"
   ]
  },
  {
   "attachments": {},
   "cell_type": "markdown",
   "id": "2cd9fa0a-7f93-4831-b93d-a3948b28dcc3",
   "metadata": {},
   "source": [
    "## New feature 3: The title from names"
   ]
  },
  {
   "cell_type": "markdown",
   "id": "e8ca66e4",
   "metadata": {},
   "source": [
    "Define the reusable procedure applied to both DATA_LABELED and DATA_TO_PREDICT datasets"
   ]
  },
  {
   "cell_type": "code",
   "execution_count": null,
   "id": "0eb0d400",
   "metadata": {},
   "outputs": [],
   "source": [
    "def fe_add_title (hdf_in: hdf.DataFrame) -> hdf.DataFrame:\n",
    "    hdf_out = hdf_in.select(\"*\", (\"SUBSTR_REGEXPR('([A-Za-z\\s]+)(?=\\.\\s)' IN \\\"Name\\\")\", \"Title\"))\n",
    "    return hdf_out"
   ]
  },
  {
   "cell_type": "code",
   "execution_count": null,
   "id": "601abb1f",
   "metadata": {},
   "outputs": [],
   "source": [
    "hdf_titanic_train_fe3 = fe_add_title(hdf_titanic_train_fe2)"
   ]
  },
  {
   "cell_type": "code",
   "execution_count": null,
   "id": "04d194cd",
   "metadata": {},
   "outputs": [],
   "source": [
    "hdf_titanic_train_fe3.head(5).collect()"
   ]
  },
  {
   "cell_type": "code",
   "execution_count": null,
   "id": "59ee1fe1",
   "metadata": {},
   "outputs": [],
   "source": [
    "from hana_ml.visualizers.eda import EDAVisualizer"
   ]
  },
  {
   "cell_type": "code",
   "execution_count": null,
   "id": "c0bfd6b8",
   "metadata": {},
   "outputs": [],
   "source": [
    "EDAVisualizer(enable_plotly=True).pie_plot(\n",
    "    data=hdf_titanic_train_fe3,\n",
    "    column=\"Title\",\n",
    "    legend=True,\n",
    "    explode=0,\n",
    "    #startangle=90,\n",
    "    #counterclock=False,\n",
    ")[1].sort_values(by='COUNT', ascending=False);"
   ]
  },
  {
   "cell_type": "markdown",
   "id": "67b1660a",
   "metadata": {},
   "source": [
    "### DATA_TO_PREDICT table"
   ]
  },
  {
   "cell_type": "code",
   "execution_count": null,
   "id": "8a10fcc1",
   "metadata": {},
   "outputs": [],
   "source": [
    "hdf_titanic_test_fe3=fe_add_title(hdf_titanic_test_fe2)"
   ]
  },
  {
   "cell_type": "code",
   "execution_count": null,
   "id": "c7242d4f-8906-48be-8660-e04eab91b27e",
   "metadata": {},
   "outputs": [],
   "source": [
    "EDAVisualizer(enable_plotly=True).pie_plot(\n",
    "    data=hdf_titanic_test_fe3,\n",
    "    column=\"Title\",\n",
    "    legend=True,\n",
    "    explode=0,\n",
    "    # startangle=90,\n",
    "    # counterclock=False,\n",
    ")[1].sort_values(by='COUNT', ascending=False);"
   ]
  },
  {
   "cell_type": "markdown",
   "id": "b5136bd9-a151-4416-b293-428f0a9135b7",
   "metadata": {},
   "source": [
    "### Unified Report for the DataSet"
   ]
  },
  {
   "cell_type": "code",
   "execution_count": null,
   "id": "39f664aa-c530-43a1-907e-2875080615ff",
   "metadata": {},
   "outputs": [],
   "source": [
    "from hana_ml.visualizers.unified_report import UnifiedReport"
   ]
  },
  {
   "cell_type": "code",
   "execution_count": null,
   "id": "9b84d2e6-77de-4bbe-b3fd-698ac3700abb",
   "metadata": {},
   "outputs": [],
   "source": [
    "(\n",
    "    UnifiedReport(hdf_titanic_train_fe3)\n",
    "    .build(key=\"PassengerId\")\n",
    "    .display()\n",
    ")"
   ]
  },
  {
   "attachments": {},
   "cell_type": "markdown",
   "id": "c60ef38e",
   "metadata": {},
   "source": [
    "# Save the new datasets"
   ]
  },
  {
   "cell_type": "code",
   "execution_count": null,
   "id": "bc9c6edc",
   "metadata": {},
   "outputs": [],
   "source": [
    "hdf_titanic_train_fe3=hdf_titanic_train_fe3.save('DATA_LABELED_FE', force=True)"
   ]
  },
  {
   "cell_type": "code",
   "execution_count": null,
   "id": "f0c3c319",
   "metadata": {},
   "outputs": [],
   "source": [
    "hdf_titanic_test_fe3=hdf_titanic_test_fe3.save('DATA_TO_PREDICT_FE', force=True)"
   ]
  },
  {
   "attachments": {},
   "cell_type": "markdown",
   "id": "f3d426a5-8531-4b85-a971-eb16a40c0d6b",
   "metadata": {},
   "source": [
    "🤓 **Let's discuss**:\n",
    "- Are there any other engineered features coming to your mind?"
   ]
  },
  {
   "cell_type": "markdown",
   "id": "7962c2cf-d55c-40d7-8754-2986214540b7",
   "metadata": {},
   "source": [
    "# Manual selection of features"
   ]
  },
  {
   "cell_type": "code",
   "execution_count": null,
   "id": "3eda7ef8-0ced-4f95-9b64-9e8987ddfb21",
   "metadata": {},
   "outputs": [],
   "source": [
    "column_id=\"PassengerId\"\n",
    "column_label=\"Survived\"\n",
    "features_subset=[\n",
    "            \"NameFirstLetter\",\n",
    "            \"FarePerPerson\",\n",
    "            \"SibSp\",\n",
    "            \"ParCh\",\n",
    "            \"Gender\",\n",
    "            \"PClass\",\n",
    "            \"Embarked\",\n",
    "            \"Title\",\n",
    "            \"Age\",\n",
    "            \"PersonsPerTicket\"\n",
    "]"
   ]
  },
  {
   "cell_type": "code",
   "execution_count": null,
   "id": "fe888657",
   "metadata": {},
   "outputs": [],
   "source": [
    "# Exclude high-cardinality variables from the train dataset\n",
    "hdf_titanic_train_v2=myconn.table('DATA_LABELED_FE').select(\n",
    "            [column_id]+features_subset+[column_label]\n",
    "        ).cast(column_label, 'NVARCHAR(1)')"
   ]
  },
  {
   "cell_type": "code",
   "execution_count": null,
   "id": "5d15e8ed",
   "metadata": {},
   "outputs": [],
   "source": [
    "print(hdf_titanic_train_v2.select_statement)"
   ]
  },
  {
   "cell_type": "code",
   "execution_count": null,
   "id": "307c76a4",
   "metadata": {},
   "outputs": [],
   "source": [
    "hdf_titanic_train_v2.head(5).collect()"
   ]
  },
  {
   "cell_type": "markdown",
   "id": "57118d5b-0750-4cf1-9d90-0ab9c2eeb138",
   "metadata": {},
   "source": [
    "# RandomDecisionTrees"
   ]
  },
  {
   "cell_type": "code",
   "execution_count": null,
   "id": "7b64d1a9-c4bc-49dc-a75b-39481adf6d85",
   "metadata": {},
   "outputs": [],
   "source": [
    "from hana_ml.algorithms.pal.unified_classification import UnifiedClassification"
   ]
  },
  {
   "cell_type": "code",
   "execution_count": null,
   "id": "d118c3fc-520d-42dd-9cc1-9bb7a7729a88",
   "metadata": {},
   "outputs": [],
   "source": [
    "uc_rdt_v5 = UnifiedClassification(func=\"RandomDecisionTree\")"
   ]
  },
  {
   "cell_type": "code",
   "execution_count": null,
   "id": "54ca173e-c7f0-4dcc-b6cb-82511e112402",
   "metadata": {},
   "outputs": [],
   "source": [
    "uc_rdt_v5.fit(\n",
    "    data=hdf_titanic_train_v2,\n",
    "    key=\"PassengerId\",\n",
    "    label=\"Survived\",\n",
    "    training_percent=0.8,\n",
    "    partition_method=\"stratified\",\n",
    "    stratified_column=\"Survived\",\n",
    "    partition_random_state=2\n",
    ");"
   ]
  },
  {
   "attachments": {},
   "cell_type": "markdown",
   "id": "6aacd665-5571-4007-9392-4b6eb1c1a006",
   "metadata": {},
   "source": [
    "## Generate a model report"
   ]
  },
  {
   "cell_type": "code",
   "execution_count": null,
   "id": "d3437c6a-1b42-4054-8eae-3a6cb17176e4",
   "metadata": {
    "slideshow": {
     "slide_type": "slide"
    }
   },
   "outputs": [],
   "source": [
    "from hana_ml.visualizers.unified_report import UnifiedReport\n",
    "UnifiedReport(uc_rdt_v5).build().display()"
   ]
  },
  {
   "attachments": {},
   "cell_type": "markdown",
   "id": "e38c96fd-8970-49b3-865f-7800c0f23a93",
   "metadata": {},
   "source": [
    "## Debrief the model"
   ]
  },
  {
   "cell_type": "code",
   "execution_count": null,
   "id": "60482389-48d5-487e-8a50-9a9b600b49b9",
   "metadata": {},
   "outputs": [],
   "source": [
    "from hana_ml.visualizers.model_debriefing import TreeModelDebriefing"
   ]
  },
  {
   "cell_type": "raw",
   "id": "d7a302e7-2dcd-4e6c-93d8-33db1ed9dd1f",
   "metadata": {
    "vscode": {
     "languageId": "raw"
    }
   },
   "source": [
    "TreeModelDebriefing.tree_debrief_with_dot(uc_rdt_v5.model_[0], iframe_height=700);"
   ]
  },
  {
   "cell_type": "markdown",
   "id": "8e32fa21-73b4-4df2-98e9-512e42615e1a",
   "metadata": {},
   "source": [
    "# Store the model"
   ]
  },
  {
   "cell_type": "code",
   "execution_count": null,
   "id": "0dc1dcdf-7a42-478a-a349-af1e4bb097ad",
   "metadata": {},
   "outputs": [],
   "source": [
    "from hana_ml.model_storage import ModelStorage"
   ]
  },
  {
   "cell_type": "markdown",
   "id": "89f17cf7-49f8-42a4-8858-a5653bb8ce56",
   "metadata": {},
   "source": [
    "Model storage: https://help.sap.com/doc/cd94b08fe2e041c2ba778374572ddba9/2024_1_QRC/en-US/hana_ml.model_storage.html"
   ]
  },
  {
   "cell_type": "code",
   "execution_count": null,
   "id": "4bd7fabd-5dc9-45ba-80d3-2fe54a7d017d",
   "metadata": {},
   "outputs": [],
   "source": [
    "ms = ModelStorage(myconn)"
   ]
  },
  {
   "cell_type": "code",
   "execution_count": null,
   "id": "c6fc9f04-b7c1-43df-b471-4b5c71cbe05f",
   "metadata": {},
   "outputs": [],
   "source": [
    "uc_rdt_v5.name = 'CodeJam-Titanic-Classification'\n",
    "uc_rdt_v5.version = 5"
   ]
  },
  {
   "cell_type": "code",
   "execution_count": null,
   "id": "0e9b3ac2-cd8d-4e79-9c5e-f3616d314a0d",
   "metadata": {},
   "outputs": [],
   "source": [
    "ms.save_model(model=uc_rdt_v5, if_exists='replace', save_report=False)"
   ]
  },
  {
   "cell_type": "code",
   "execution_count": null,
   "id": "1e9489f5-b170-4f7a-a72a-6517a5eb5201",
   "metadata": {},
   "outputs": [],
   "source": [
    "ms.list_models()"
   ]
  },
  {
   "cell_type": "markdown",
   "id": "4ee70ffa-af5c-4ecb-bd79-c78f69ef5a8e",
   "metadata": {},
   "source": [
    "# Call prediction"
   ]
  },
  {
   "cell_type": "code",
   "execution_count": null,
   "id": "cc0e3812",
   "metadata": {},
   "outputs": [],
   "source": [
    "hdf_titanic_test_v2=myconn.table('DATA_TO_PREDICT_FE').select(\n",
    "            [column_id]+features_subset\n",
    "        )"
   ]
  },
  {
   "cell_type": "code",
   "execution_count": null,
   "id": "8e67cbe2-12c2-4a21-9e2a-b1778613cd02",
   "metadata": {},
   "outputs": [],
   "source": [
    "hdf_res = uc_rdt_v5.predict(hdf_titanic_test_v2, key=column_id)"
   ]
  },
  {
   "cell_type": "code",
   "execution_count": null,
   "id": "278c07e8-de5b-4d31-a809-e3e126543551",
   "metadata": {},
   "outputs": [],
   "source": [
    "display(hdf_res.head(4).collect())"
   ]
  },
  {
   "cell_type": "markdown",
   "id": "0f6270f5",
   "metadata": {},
   "source": [
    "# Unsupervised [Feature selection](https://en.wikipedia.org/wiki/Feature_selection)"
   ]
  },
  {
   "cell_type": "markdown",
   "id": "3aeb2773",
   "metadata": {},
   "source": [
    "Feature selection: https://help.sap.com/doc/cd94b08fe2e041c2ba778374572ddba9/2024_1_QRC/en-US/pal/algorithms/hana_ml.algorithms.pal.preprocessing.FeatureSelection.html#featureselection\n",
    "\n",
    "In PAL: https://help.sap.com/docs/hana-cloud-database/sap-hana-cloud-sap-hana-database-predictive-analysis-library/feature-selection-feature-selection-29a47ef"
   ]
  },
  {
   "cell_type": "code",
   "execution_count": null,
   "id": "bb31bfce",
   "metadata": {},
   "outputs": [],
   "source": [
    "from hana_ml.algorithms.pal.preprocessing import FeatureSelection"
   ]
  },
  {
   "cell_type": "code",
   "execution_count": null,
   "id": "cc1b0e04",
   "metadata": {},
   "outputs": [],
   "source": [
    "hdf_titanic_train_fe3.get_table_structure()"
   ]
  },
  {
   "cell_type": "code",
   "execution_count": null,
   "id": "7b9972d0",
   "metadata": {},
   "outputs": [],
   "source": [
    "for fs_method in ['chi-squared', 'gini-index', 'information-gain', 'MRMR', 'JMI', 'IWFS']:\n",
    "    print(f\"{fs_method}: \", end=\"\")\n",
    "    fs = FeatureSelection(fs_method=fs_method, top_k_best=5)\n",
    "    fs_df = fs.fit_transform(data=hdf_titanic_train_fe3,\n",
    "                             key='PassengerId',\n",
    "                             label=\"Survived\",\n",
    "                             excluded_feature=['Fare','Ticket']\n",
    "                            )\n",
    "    print(eval(fs.result_.collect().iloc[0][1])[\"__SelectedFeatures__\"])"
   ]
  },
  {
   "attachments": {},
   "cell_type": "markdown",
   "id": "d0f2af99-9fb1-4b87-a86b-e8adc92ac3e4",
   "metadata": {},
   "source": [
    "🤓 **Let's discuss**:\n",
    "- When would feature selection be applicable?"
   ]
  }
 ],
 "metadata": {
  "kernelspec": {
   "display_name": "Python 3 (ipykernel)",
   "language": "python",
   "name": "python3"
  },
  "language_info": {
   "codemirror_mode": {
    "name": "ipython",
    "version": 3
   },
   "file_extension": ".py",
   "mimetype": "text/x-python",
   "name": "python",
   "nbconvert_exporter": "python",
   "pygments_lexer": "ipython3",
   "version": "3.11.2"
  }
 },
 "nbformat": 4,
 "nbformat_minor": 5
}
