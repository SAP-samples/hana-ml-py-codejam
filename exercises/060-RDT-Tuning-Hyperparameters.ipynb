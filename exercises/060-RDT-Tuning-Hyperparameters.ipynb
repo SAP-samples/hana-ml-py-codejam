{
 "cells": [
  {
   "cell_type": "markdown",
   "id": "f0c65302",
   "metadata": {},
   "source": [
    "## Check the setup and connect to the database"
   ]
  },
  {
   "cell_type": "code",
   "execution_count": null,
   "id": "2d0a599c",
   "metadata": {},
   "outputs": [],
   "source": [
    "%run \"010-check_setup.ipynb\""
   ]
  },
  {
   "attachments": {},
   "cell_type": "markdown",
   "id": "5b8c5bdb-82de-409c-9892-5badc3bc70fe",
   "metadata": {},
   "source": [
    "# Tables from SAP HANA"
   ]
  },
  {
   "cell_type": "code",
   "execution_count": null,
   "id": "49006e60-7201-4d1d-b18c-464d52cdfc4c",
   "metadata": {},
   "outputs": [],
   "source": [
    "column_id=\"PassengerId\"\n",
    "column_label=\"Survived\"\n",
    "features_subset=[\n",
    "            \"NameFirstLetter\",\n",
    "            \"FarePerPerson\",\n",
    "            \"SibSp\",\n",
    "            \"ParCh\",\n",
    "            \"Gender\",\n",
    "            \"PClass\",\n",
    "            \"Embarked\",\n",
    "            \"Title\",\n",
    "            \"Age\",\n",
    "            \"PersonsPerTicket\"\n",
    "]"
   ]
  },
  {
   "cell_type": "code",
   "execution_count": null,
   "id": "8c5b897c",
   "metadata": {},
   "outputs": [],
   "source": [
    "hdf_titanic_train = myconn.table(\"DATA_LABELED_FE\").select(\n",
    "            [column_id]+features_subset+[column_label]\n",
    "        ).cast(column_label, 'NVARCHAR(1)')"
   ]
  },
  {
   "cell_type": "markdown",
   "id": "459e4fa4-bbf9-4c30-9da5-b223cdfcee62",
   "metadata": {
    "tags": []
   },
   "source": [
    "# Model training with different [Hyperparameters](https://en.wikipedia.org/wiki/Hyperparameter_(machine_learning))"
   ]
  },
  {
   "cell_type": "code",
   "execution_count": null,
   "id": "a8290834-7712-44ae-afa0-c88b7805e2c3",
   "metadata": {},
   "outputs": [],
   "source": [
    "import hana_ml.algorithms.pal.unified_classification as hml_uc"
   ]
  },
  {
   "cell_type": "code",
   "execution_count": null,
   "id": "97c82ed7-32e5-4e5b-8fd5-99976f97e821",
   "metadata": {},
   "outputs": [],
   "source": [
    "rdt_params = dict(random_state=2,\n",
    "                  min_samples_leaf=10,\n",
    "                  n_estimators=5,\n",
    "                  max_depth=2)"
   ]
  },
  {
   "cell_type": "code",
   "execution_count": null,
   "id": "1e4a60b1-ca2e-4ae0-ac5e-a14d6a5846b5",
   "metadata": {
    "slideshow": {
     "slide_type": "slide"
    }
   },
   "outputs": [],
   "source": [
    "uc_rdt_v6 = hml_uc.UnifiedClassification(func='RandomDecisionTree', **rdt_params)"
   ]
  },
  {
   "cell_type": "code",
   "execution_count": null,
   "id": "416501c2-6b99-41ba-8275-c118d1a71144",
   "metadata": {},
   "outputs": [],
   "source": [
    "uc_rdt_v6.fit(\n",
    "    data=hdf_titanic_train,\n",
    "    key='PassengerId', label='Survived',\n",
    "    training_percent=0.8,\n",
    "    partition_method='stratified', stratified_column='Survived', \n",
    "    partition_random_state=2\n",
    ");"
   ]
  },
  {
   "cell_type": "code",
   "execution_count": null,
   "id": "c0465c54-6f0b-4639-9024-f0925c5b2ac0",
   "metadata": {},
   "outputs": [],
   "source": [
    "uc_rdt_v6.get_parameters()"
   ]
  },
  {
   "attachments": {},
   "cell_type": "markdown",
   "id": "5cef3dcc-0798-418e-8e34-398ffd776b91",
   "metadata": {},
   "source": [
    "## Generate a model report"
   ]
  },
  {
   "cell_type": "code",
   "execution_count": null,
   "id": "0b958c5d-de65-447a-9b8f-f5aed317a3a4",
   "metadata": {
    "slideshow": {
     "slide_type": "slide"
    }
   },
   "outputs": [],
   "source": [
    "from hana_ml.visualizers.unified_report import UnifiedReport\n",
    "UnifiedReport(uc_rdt_v6).build().display()"
   ]
  },
  {
   "attachments": {},
   "cell_type": "markdown",
   "id": "64d8a59e-0621-494e-b0ff-9af602e6c9ca",
   "metadata": {},
   "source": [
    "## Debrief the model"
   ]
  },
  {
   "cell_type": "code",
   "execution_count": null,
   "id": "4b25db3b-f5f6-4acc-95e0-c7696ab9e263",
   "metadata": {},
   "outputs": [],
   "source": [
    "from hana_ml.visualizers.model_debriefing import TreeModelDebriefing"
   ]
  },
  {
   "cell_type": "code",
   "execution_count": null,
   "id": "d1d282ee-55d6-4afe-80d7-f727d913005c",
   "metadata": {},
   "outputs": [],
   "source": [
    "TreeModelDebriefing.tree_debrief_with_dot(uc_rdt_v6.model_[0]);"
   ]
  },
  {
   "cell_type": "markdown",
   "id": "f2895078-f9a2-4e9e-97cf-1021cf25431e",
   "metadata": {},
   "source": [
    "# Store the model"
   ]
  },
  {
   "cell_type": "code",
   "execution_count": null,
   "id": "8ff285e2-a251-40ac-abcc-b97f7323d508",
   "metadata": {},
   "outputs": [],
   "source": [
    "from hana_ml.model_storage import ModelStorage"
   ]
  },
  {
   "cell_type": "code",
   "execution_count": null,
   "id": "eee8c0a8-8280-4530-b9a1-fed27452fc1f",
   "metadata": {},
   "outputs": [],
   "source": [
    "ms = ModelStorage(myconn)"
   ]
  },
  {
   "cell_type": "code",
   "execution_count": null,
   "id": "8ec7669d-a52c-4800-b11c-2f58f4848330",
   "metadata": {},
   "outputs": [],
   "source": [
    "uc_rdt_v6.name = 'CodeJam-Titanic-Classification'\n",
    "uc_rdt_v6.version = 6"
   ]
  },
  {
   "cell_type": "code",
   "execution_count": null,
   "id": "ec7fc4a3-ff5d-429a-95a6-ea752af6a306",
   "metadata": {},
   "outputs": [],
   "source": [
    "ms.save_model(model=uc_rdt_v6, if_exists='replace', save_report=False)"
   ]
  },
  {
   "cell_type": "code",
   "execution_count": null,
   "id": "e1c58cb7-63ba-4eec-b8b1-f42cd8fc9c02",
   "metadata": {},
   "outputs": [],
   "source": [
    "ms.list_models()"
   ]
  },
  {
   "attachments": {},
   "cell_type": "markdown",
   "id": "92b62cb5-7ca2-4a93-9b1e-a92a52ebdf29",
   "metadata": {},
   "source": [
    "# Call prediction"
   ]
  },
  {
   "cell_type": "code",
   "execution_count": null,
   "id": "f4497187-9991-4bbc-a710-50fda6aee8f5",
   "metadata": {},
   "outputs": [],
   "source": [
    "hdf_titanic_test=myconn.table('DATA_TO_PREDICT_FE').select(\n",
    "            [column_id]+features_subset\n",
    "        )"
   ]
  },
  {
   "cell_type": "code",
   "execution_count": null,
   "id": "b60c17bc-7628-4036-b0c2-92ac302ea6bd",
   "metadata": {},
   "outputs": [],
   "source": [
    "hdf_res = uc_rdt_v6.predict(hdf_titanic_test, key = 'PassengerId')"
   ]
  },
  {
   "cell_type": "code",
   "execution_count": null,
   "id": "65181ce5-5299-41a4-b47f-1f6ec81d311c",
   "metadata": {},
   "outputs": [],
   "source": [
    "display(hdf_res.select('PassengerId', 'SCORE', 'CONFIDENCE').head(4).collect())"
   ]
  },
  {
   "cell_type": "markdown",
   "id": "be903a1c-9a78-4d3f-8ab2-bb04ad7e367b",
   "metadata": {},
   "source": [
    "## Global Interpretation using [Shapley values](https://en.wikipedia.org/wiki/Shapley_value#In_machine_learning)\n",
    "\n",
    "Create Shapley explainer to explain the output of machine learning model: https://help.sap.com/doc/cd94b08fe2e041c2ba778374572ddba9/latest/en-US/hana_ml.visualizers.html#hana_ml.visualizers.model_debriefing.TreeModelDebriefing.shapley_explainer"
   ]
  },
  {
   "cell_type": "code",
   "execution_count": null,
   "id": "23191fa5-d289-40e9-9946-0fa42e16049a",
   "metadata": {},
   "outputs": [],
   "source": [
    "from hana_ml.visualizers.model_debriefing import TreeModelDebriefing\n",
    "import numpy as np"
   ]
  },
  {
   "cell_type": "code",
   "execution_count": null,
   "id": "d60b8141-983d-45ed-b042-ba2e864e8304",
   "metadata": {},
   "outputs": [],
   "source": [
    "#np.set_printoptions(legacy=\"1.25\")\n",
    "\n",
    "shapley_explainer = TreeModelDebriefing.shapley_explainer(hdf_res, hdf_titanic_test, key='PassengerId', label='Survived')\n",
    "shapley_explainer.summary_plot()"
   ]
  }
 ],
 "metadata": {
  "kernelspec": {
   "display_name": "env",
   "language": "python",
   "name": "python3"
  },
  "language_info": {
   "codemirror_mode": {
    "name": "ipython",
    "version": 3
   },
   "file_extension": ".py",
   "mimetype": "text/x-python",
   "name": "python",
   "nbconvert_exporter": "python",
   "pygments_lexer": "ipython3",
   "version": "3.13.1"
  }
 },
 "nbformat": 4,
 "nbformat_minor": 5
}
